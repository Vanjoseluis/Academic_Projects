{
 "cells": [
  {
   "cell_type": "markdown",
   "metadata": {},
   "source": [
    "<div class=\"jumbotron\" style=\"background:WhiteSmoke\">\n",
    "  <br>\n",
    "    <hr style=\"text-align:center\">\n",
    "      <h1 class=\"title\" style=\"text-align:center;color:RoyalBlue\">Linux Basics for Robotics</h1>\n",
    "      <h2 class=\"subtitle\" style=\"text-align:center;color:Black\">Course Project</h2>\n",
    "    <hr style=\"text-align:center\">\n",
    "  <br>\n",
    "</div>"
   ]
  },
  {
   "cell_type": "markdown",
   "metadata": {},
   "source": [
    "<center><img src=\"images/linux_basics_logo.png\" width=\"500\"/></center>"
   ]
  },
  {
   "cell_type": "markdown",
   "metadata": {},
   "source": [
    "<div class=\"separator-primary\" style=\"height:1.6em;width:100%;background:LightGrey\">\n",
    "  <p class=\"separatortitle\" style=\"text-align:center;color:Black\"><b>- Summary -</b></p>\n",
    "</div>"
   ]
  },
  {
   "cell_type": "markdown",
   "metadata": {},
   "source": [
    "**In this rosject, you will apply all that you have learned from the *Linux for Robotics* course onto a real robot.**\n",
    "\n",
    "- You will practice on a simulation and try your program on a real robot **TurtleBot3 Burger**.\n",
    "- You will launch and run the simulation in this rosject.\n",
    "- You will remotely connect to the real robot that is live and running in **Barcelona, Spain**, to test your program from this rosject itself!"
   ]
  },
  {
   "cell_type": "markdown",
   "metadata": {},
   "source": [
    "<center><img src=\"images/sim_and_real_lab.png\" width=\"750\"/></center>"
   ]
  },
  {
   "cell_type": "markdown",
   "metadata": {},
   "source": [
    "<div class=\"separator-primary\" style=\"height:1.6em;width:100%;background:LightGrey\">\n",
    "  <p class=\"separatortitle\" style=\"text-align:center;color:Black\"><b>- End of Summary -</b></p>\n",
    "</div>"
   ]
  },
  {
   "cell_type": "markdown",
   "metadata": {},
   "source": [
    "<div class=\"section\" style=\"height:1.8em;background:WhiteSmoke\">\n",
    "  <h2 class=\"section-title\" style=\"text-align:center\">\n",
    "    <span class=\"section-title-secondary\" style=\"text-align:center;color:Black\">The Rosject Environment</span>\n",
    "  </h2>\n",
    "</div>"
   ]
  },
  {
   "cell_type": "markdown",
   "metadata": {},
   "source": [
    "If this is your first time on a rosject environment, then follow through this section to get the hang of it. Otherwise, you can take a quick glimpse or skip this section of this rosject.\n",
    "\n",
    "Rosjects are similar to real development environment for **ROS** robots:\n",
    "\n",
    "- You will need to start the robot simulation yourself\n",
    "- You will need to decide when to open a Linux terminal\n",
    "- You will need to decide when to connect to the real robot\n",
    "- You will need to decide when to open and work with the IDE\n",
    "\n",
    "This is actually how the **ROS** developers work every day."
   ]
  },
  {
   "cell_type": "markdown",
   "metadata": {},
   "source": [
    "### How to launch a terminal.\n",
    "\n",
    "To open a terminal, use the following icon on the bottom bar.\n",
    "\n",
    "<center><img src=\"images/icon_web_terminal.png\" width=\"50\"/></center>\n",
    "\n",
    "Terminals are where you will do most of the work: looking for topics, running commands and checking nodes are just a few things. It is the main interface with the Linux system of the robot."
   ]
  },
  {
   "cell_type": "markdown",
   "metadata": {},
   "source": [
    "### How to launch the IDE\n",
    "\n",
    "To open the IDE, use the following icon on the bottom bar.\n",
    "\n",
    "<center><img src=\"images/icon_code_editor.png\" width=\"50\"/></center>\n",
    "\n",
    "This is the code editor. Very similar to Visual Studio Code, but not exactly the same. You will write your programs here, and you can also see the folder organization of the rosject. It is worth taking a minute here to identify the most important workspaces where you will be working and the ones you don't need to pay attention:\n",
    "\n",
    "- ***`ros2_ws`***: The main workspace. **All of your work will be in here**, inside the ***`src`*** directory.\n",
    "- ***`simulation_ws`***: The workspace where all of the codes related to the simulation are present. **You do not need to work in here.**\n",
    "- ***`notebook_ws`***: The workspace where the notebook and associated images are stored. **You do not need to work in here.**"
   ]
  },
  {
   "cell_type": "markdown",
   "metadata": {},
   "source": [
    "### How to open the instructions notebook\n",
    "\n",
    "To open the notebook, use the following icon on the bottom bar.\n",
    "\n",
    "<center><img src=\"images/icon_jupyter_notebook.png\" width=\"50\"/></center>\n",
    "\n",
    "The instructions notebook is what you are reading right now. Contains the instructions of what you need to do to complete the project."
   ]
  },
  {
   "cell_type": "markdown",
   "metadata": {},
   "source": [
    "### How to launch a simulation\n",
    "\n",
    "As in every professional robot programming system, you will need to decide when to launch the simulation. \n",
    "\n",
    "**The simulation will not be there automatically for you** as it happens in the course.\n",
    "\n",
    "To launch a simulation:\n",
    "\n",
    "1. You need to have the simulation code inside the ***`simulation_ws`*** (already done for you in this rosject).\n",
    "2. You need to know beforehand the Linux command necessary to launch that simulation (you will get it below).\n",
    "3. You will need to open a terminal.\n",
    "4. Then type the Linux command on the terminal.\n",
    "5. Once the simulation has fully started, the simulation window will automatically appear.\n",
    "6. In case you closed that window and want to open it again, use the following icon on the bottom bar:\n",
    "\n",
    "<center><img src=\"images/icon_load_gazebo.png\" width=\"50\"/></center>"
   ]
  },
  {
   "cell_type": "markdown",
   "metadata": {},
   "source": [
    "### How to open the graphical tools\n",
    "\n",
    "You already know about the graphical tools:\n",
    "\n",
    "<center><img src=\"images/icon_graphical_tools.png\" width=\"50\"/></center>\n",
    "\n",
    "Opens ***`rviz`***, **only if rviz has been launched from a terminal**. You will also see any other GUI applications in here, like ***`rqt`***."
   ]
  },
  {
   "cell_type": "markdown",
   "metadata": {},
   "source": [
    "### How to connect to the real robot\n",
    "\n",
    "When you are ready to connect to the real robot and practice with it, you will need to do a booking of the robot and then use the following icon to connect to the real robot:\n",
    "\n",
    "<center><img src=\"images/icon_realrobotlab_comingup.png\" width=\"50\"/></center>\n",
    "\n",
    "Check the Appendix below to learn **how to book a session with the real robot**."
   ]
  },
  {
   "cell_type": "markdown",
   "metadata": {},
   "source": [
    "### How to check the course notebooks\n",
    "\n",
    "In case you need to check something from the courses that you forgot, **YOU DON'T NEED TO SWITCH TO THE COURSE!** You can open any course content from within the rosject using the following icon:\n",
    "\n",
    "<center><img src=\"images/icon_course_notebooks.png\" width=\"50\"/></center>\n",
    "\n",
    "Opens any notebook from all of our courses. Very useful if you want to quickly check something from the courses (that you have completed) without having to open it.\n",
    "\n",
    "<center><img src=\"images/linux_basics_course_notebooks.png\" width=\"750\"/></center>"
   ]
  },
  {
   "cell_type": "markdown",
   "metadata": {},
   "source": [
    "<div class=\"section\" style=\"height:1.8em;background:WhiteSmoke\">\n",
    "  <h2 class=\"section-title\" style=\"text-align:center\">\n",
    "    <span class=\"section-title-secondary\" style=\"text-align:center;color:Black\">The Project</span>\n",
    "  </h2>\n",
    "</div>"
   ]
  },
  {
   "cell_type": "markdown",
   "metadata": {},
   "source": [
    "This rosject has **three** parts. Complete each section as directed, from the instructions provided below.\n",
    "\n",
    "- **Part 1:** Get to Know the Robot and the Lab\n",
    "- **Part 2:** Create Programs to Control the Robot\n",
    "- **Part 3:** Implement Basic Robot Algorithms"
   ]
  },
  {
   "cell_type": "markdown",
   "metadata": {},
   "source": [
    "Before anything else, you will need to **launch the simulation** of the project. You will use the simulation to practice with the simulated environment first, before working with the real robot."
   ]
  },
  {
   "cell_type": "markdown",
   "metadata": {},
   "source": [
    "<div class=\"section\" style=\"height:1.8em;background:WhiteSmoke\">\n",
    "  <h2 class=\"section-title\" style=\"text-align:center\">\n",
    "    <span class=\"section-title-secondary\" style=\"text-align:center;color:Black\">Launching the Simulation</span>\n",
    "  </h2>\n",
    "</div>"
   ]
  },
  {
   "cell_type": "markdown",
   "metadata": {},
   "source": [
    "Before working on your code, you need a simulation (or an actual robot) to be running. During the **Linux for Robotics** course, you saw the simulation running in the top right corner. The simulation was automatically launched.\n",
    "\n",
    "In real development environments, you decide when to launch the simulation in order to start working. \n",
    "\n",
    "Now, let's launch the simulation we will need for this project:"
   ]
  },
  {
   "cell_type": "markdown",
   "metadata": {},
   "source": [
    "1. Open a terminal by pressing on the ***Terminal*** icon on the bottom bar of your screen.\n",
    "\n",
    "2. On the opened terminal, type the following **ROS** command that launches the simulation."
   ]
  },
  {
   "cell_type": "markdown",
   "metadata": {},
   "source": [
    "<div class=\"execute\" style=\"width:14.0em;height:1.5em;border-radius:0.8em;background:Silver\">\n",
    "  <p class=\"executetext\" style=\"text-align:center;color:Black\">\n",
    "    <i class=\"fa fa-terminal\" style=\"font-size:1.5em\"></i>\n",
    "    &nbsp;\n",
    "    <b>Execute in Terminal</b>\n",
    "  </p>\n",
    "</div>"
   ]
  },
  {
   "cell_type": "code",
   "execution_count": null,
   "metadata": {},
   "outputs": [],
   "source": [
    "source ~/simulation_ws/install/setup.bash\n",
    "ros2 launch turtlebot3_gazebo main_turtlebot3_lab.launch.xml"
   ]
  },
  {
   "cell_type": "markdown",
   "metadata": {},
   "source": [
    "**Wait approximately 30 seconds** for the simulation to start. The simulation should automatically appear in a **Gazebo** window.\n",
    "\n",
    "If it doesn't automatically appear, open the **Gazebo** window yourself, using the **Gazebo** icon:\n",
    "\n",
    "<center><img src=\"images/icon_load_gazebo.png\" width=\"50\"/></center>"
   ]
  },
  {
   "cell_type": "markdown",
   "metadata": {},
   "source": [
    "<center><img src=\"images/new_sim.png\" width=\"750\"/></center>"
   ]
  },
  {
   "cell_type": "markdown",
   "metadata": {},
   "source": [
    "<div class=\"separator-primary\" style=\"height:1.6em;width:100%;background:Tomato\">\n",
    "  <p class=\"separatortitle\" style=\"text-align:center;color:Black\"><b>- Important Notes -</b></p>\n",
    "</div>"
   ]
  },
  {
   "cell_type": "markdown",
   "metadata": {},
   "source": [
    "**NOTE 1:** The terminal that has the simulation running will be occupied by it, so you will not be able to use it unless you kill the simulation. Therefore, you will have to open new terminals for other purposes while keeping the simulation running.\n",
    "\n",
    "**NOTE 2:** When you use the above command to launch the simulation for the first time after starting this rosject, chances are, **Gazebo** will not launch as expected. If you don't see **Gazebo** show up after 60+ seconds, just terminate the above command running in the terminal and launch the simulation again from the same terminal using the same above command. This is an expected behavior since the rosject is running on a cloud-based virtual machine and applications require some time to warmup to initialize properly. **Do Not Panic** when you don't see the simulation when you launch it for the very first time!"
   ]
  },
  {
   "cell_type": "markdown",
   "metadata": {},
   "source": [
    "<div class=\"separator-primary\" style=\"height:1.6em;width:100%;background:Tomato\">\n",
    "  <p class=\"separatortitle\" style=\"text-align:center;color:Black\"><b>- End of Important Notes -</b></p>\n",
    "</div>"
   ]
  },
  {
   "cell_type": "markdown",
   "metadata": {},
   "source": [
    "<div class=\"section\" style=\"height:1.8em;background:WhiteSmoke\">\n",
    "  <h2 class=\"section-title\" style=\"text-align:center\">\n",
    "    <span class=\"section-title-primary\" style=\"text-align:center;color:RoyalBlue\">Part 1</span>\n",
    "    &nbsp;&nbsp;&nbsp;\n",
    "    <span class=\"section-title-secondary\" style=\"text-align:center;color:Black\">Get to Know the Robot and the Lab</span>\n",
    "  </h2>\n",
    "</div>"
   ]
  },
  {
   "cell_type": "markdown",
   "metadata": {},
   "source": [
    "For this part of the project, you will get to know the robot, **TurtleBot3**, and the lab associated with this robot. You will simply learn how to drive the robot in simulation and in the real robot lab. This part has no programming task, but it is very essential that you learn how to use the simulation and the real robot lab."
   ]
  },
  {
   "cell_type": "markdown",
   "metadata": {},
   "source": [
    "Follow the steps listed below to get started with this part:"
   ]
  },
  {
   "cell_type": "markdown",
   "metadata": {},
   "source": [
    "1. First, launch the **TurtleBot3** **Simulation** with **Gazebo**:\n",
    "   - Copy and paste the commands to launch the simulation in a new terminal window (refer **Launching the Simulation** section above).\n",
    "   - The simulation environment, as you can see in the picture above, is a close-replica of what you will see in the real robot lab environment.\n",
    "   - Once the simulation is launched, you will see two windows starting up - one for **Gazebo** and another for **RViz**.\n",
    "     - **Gazebo** is the simulator. This is a digital duplicate of the robot and its environment.\n",
    "     - **RViz** is a robot visualizer. **RViz** is **not** a simulator, it converts robot data into human-readable form.\n",
    "   - Wait for **30 seconds** so the simulation launches completely and successfully.\n",
    "   - In **Gazebo**, you will see the robot, the robot arena and some (non-movable) obstacles on the arena.\n",
    "   - In **RViz**, you can visualize what the robot perceives through its sensors, in simple words, you will see what the robot senses.\n",
    "   - To change views in **Gazebo**, follow these steps:\n",
    "     - Zoom-in / Zoom-out: scroll button (mouse) or scroll gesture (touch-pad).\n",
    "     - Pan Scene: left click and drag (mouse) or tap once and drag (touch-pad).\n",
    "     - Rotate Scene: scroll button and drag (mouse) or shift + left click and drag (touch-pad).\n",
    "   - To change views in **RViz**, follow these steps:\n",
    "     - Zoom-in / Zoom-out: scroll button (mouse) or scroll gesture (touch-pad).\n",
    "     - Pan Scene: scroll button and drag (mouse) or shift + left click and drag (touch-pad).\n",
    "     - Rotate Scene: left click and drag (mouse) or tap once and drag (touch-pad)."
   ]
  },
  {
   "cell_type": "markdown",
   "metadata": {},
   "source": [
    "Your **Simulation** environment setup should look similar to the image shown below:\n",
    "<center><img src=\"images/task1_environment_setup_sim.png\" width=\"750\"/></center>"
   ]
  },
  {
   "cell_type": "markdown",
   "metadata": {},
   "source": [
    "2. Move the robot around in the **Simulation** and see what the robot senses:\n",
    "   - To move the robot around, you need to launch the **teleop** program (refer **Test Your Programs in the Simulation** section below).\n",
    "   - Once you have launched the **teleop** program, you can use the appropriate keys to move the robot as you wish.\n",
    "   - While you are moving the robot, pay attention to what the robot perceives by looking in the **RViz** window.\n",
    "   - Once you are done playing with the robot in the simulation, you can terminate all the programs running in the terminals."
   ]
  },
  {
   "cell_type": "markdown",
   "metadata": {},
   "source": [
    "Your **Simulation** result should look similar to the animation shown below:\n",
    "\n",
    "**NOTE:** The animation shown below runs at ***`4x`*** the actual speed.\n",
    "\n",
    "<center><img src=\"animations/linux_basics_task1_sim.gif\" width=\"750\"/></center>"
   ]
  },
  {
   "cell_type": "markdown",
   "metadata": {},
   "source": [
    "3. Next, connect to the **TurtleBot3** **Real Robot** through this **ROSject**:\n",
    "   - Make a reservation for the **Turtlebot** lab (refer **How to Connect to the Real Robot** section below).\n",
    "   - Follow the steps from **2 - 6** in the **Test your Programs on the Real Robot** section below.\n",
    "   - **NOTE:** In the real robot environment, the obstacles are not fixed. So they will move away if you crash the robot into them. So try your best to avoid crashing directly into the obstacles (or walls)."
   ]
  },
  {
   "cell_type": "markdown",
   "metadata": {},
   "source": [
    "Your **Real Robot** environment setup should look similar to the image shown below:\n",
    "<center><img src=\"images/task1_environment_setup_real.png\" width=\"750\"/></center>"
   ]
  },
  {
   "cell_type": "markdown",
   "metadata": {},
   "source": [
    "4. Move the robot around in the **Real Robot Lab** and see what the robot senses.\n",
    "   - Follow the steps from **7 - 8** in the **Test your Programs on the Real Robot** section below.\n",
    "   - Once you are done playing with the real robot in the lab, you can terminate all the programs running in the terminals.\n",
    "   - Remember to **disconnect** from the **Real Robot Lab** to start working with the simulation again.\n",
    "   - **NOTE:** You **cannot** have **Gazebo** simulation also running when you are connected to the **Real Robot Lab**."
   ]
  },
  {
   "cell_type": "markdown",
   "metadata": {},
   "source": [
    "Your **Real Robot** result should look similar to the animation shown below:\n",
    "\n",
    "**NOTE:** The animation shown below runs at ***`4x`*** the actual speed.\n",
    "\n",
    "<center><img src=\"animations/linux_basics_task1_real.gif\" width=\"750\"/></center>"
   ]
  },
  {
   "cell_type": "markdown",
   "metadata": {},
   "source": [
    "<div class=\"separator-primary\" style=\"height:1.6em;width:100%;background:Tomato\">\n",
    "  <p class=\"separatortitle\" style=\"text-align:center;color:Black\"><b>- Important Notes -</b></p>\n",
    "</div>"
   ]
  },
  {
   "cell_type": "markdown",
   "metadata": {},
   "source": [
    "At this point, you must have gained a good understanding of how the robot works in the simulation and in the real robot lab. You should have also learned how to work in this **ROSject** environment and the differences between working in a course environment and in this rosject environment."
   ]
  },
  {
   "cell_type": "markdown",
   "metadata": {},
   "source": [
    "<div class=\"separator-primary\" style=\"height:1.6em;width:100%;background:Tomato\">\n",
    "  <p class=\"separatortitle\" style=\"text-align:center;color:Black\"><b>- End of Important Notes -</b></p>\n",
    "</div>"
   ]
  },
  {
   "cell_type": "markdown",
   "metadata": {},
   "source": [
    "<div class=\"section\" style=\"height:1.8em;background:WhiteSmoke\">\n",
    "  <h2 class=\"section-title\" style=\"text-align:center\">\n",
    "    <span class=\"section-title-primary\" style=\"text-align:center;color:RoyalBlue\">Part 2</span>\n",
    "    &nbsp;&nbsp;&nbsp;\n",
    "    <span class=\"section-title-secondary\" style=\"text-align:center;color:Black\">Create Programs to Control the Robot</span>\n",
    "  </h2>\n",
    "</div>"
   ]
  },
  {
   "cell_type": "markdown",
   "metadata": {},
   "source": [
    "For this part of the project, you will first create a **ROS2** package for **Robot Control**, using terminal commands. Then you will make use of the provided example **bash** scripts to create a new **bash** file containing a list of functions that you will use for the next part of this project.\n",
    "\n",
    "This exercise will provide you the necessary knowledge and understanding on how to program basic robot control tasks using **bash** scripts in **Linux** operating systems."
   ]
  },
  {
   "cell_type": "markdown",
   "metadata": {},
   "source": [
    "Follow the steps listed below to get started with this part:"
   ]
  },
  {
   "cell_type": "markdown",
   "metadata": {},
   "source": [
    "1. Open a terminal by pressing on the ***Terminal*** icon on the bottom bar of your screen."
   ]
  },
  {
   "cell_type": "markdown",
   "metadata": {},
   "source": [
    "2. Create the **ROS2** package named **`linux_basics_project`**.\n",
    "   - The robot runs with the help of the **ROS2 Framework**.\n",
    "   - The robot cannot run directly with only **Linux** commands."
   ]
  },
  {
   "cell_type": "markdown",
   "metadata": {},
   "source": [
    "<div class=\"execute\" style=\"width:14.0em;height:1.5em;border-radius:0.8em;background:Silver\">\n",
    "  <p class=\"executetext\" style=\"text-align:center;color:Black\">\n",
    "    <i class=\"fa fa-terminal\" style=\"font-size:1.5em\"></i>\n",
    "    &nbsp;\n",
    "    <b>Execute in Terminal</b>\n",
    "  </p>\n",
    "</div>"
   ]
  },
  {
   "cell_type": "code",
   "execution_count": null,
   "metadata": {},
   "outputs": [],
   "source": [
    "cd ~/ros2_ws/src"
   ]
  },
  {
   "cell_type": "code",
   "execution_count": null,
   "metadata": {},
   "outputs": [],
   "source": [
    "ros2 pkg create linux_basics_project --build-type ament_python --dependencies rclpy std_msgs geometry_msgs nav_msgs sensor_msgs"
   ]
  },
  {
   "cell_type": "markdown",
   "metadata": {},
   "source": [
    "3. Now, using the knowledge you gained from the **Linux for Robotics** course, perform the following tasks:\n",
    "   - Navigate inside the **`linux_basics_project`** package using the **Terminal**.\n",
    "   - Remove the directory named **`test`**. This directory will be created along with the package creation command. You will not need this directory for this project. You can ignore this step if the directory was not automatically created for you.\n",
    "   - Open the **`package.xml`** file that is present within the **`linux_basics_project`** package using the **IDE**.\n",
    "   - You need to remove the following lines from the **`package.xml`** file and make sure that the file contents are properly indented.\n",
    "      ```xml\n",
    "      <test_depend>ament_copyright</test_depend>\n",
    "      <test_depend>ament_flake8</test_depend>\n",
    "      <test_depend>ament_pep257</test_depend>\n",
    "      <test_depend>python3-pytest</test_depend>\n",
    "      ```\n",
    "   - Modify the **description** and **maintainer** fields in the **`package.xml`** file to suit your needs and save the file."
   ]
  },
  {
   "cell_type": "markdown",
   "metadata": {},
   "source": [
    "4. Now, inside the **`linux_basics_project`** directory, you will find another **`linux_basics_project`** directory (with the same name) that is automatically created when you created the **ROS2** package. This directory will contain your source codes for all the programs that you will create in this project.\n",
    "   - Navigate inside the **`linux_basics_project`** sub-directory.\n",
    "   - You will find an empty **Python** file named **`__init__.py`**. This is a **Python** module initializer file. You will not make any changes to this file. You should also not delete this file, otherwise this project will not work."
   ]
  },
  {
   "cell_type": "markdown",
   "metadata": {},
   "source": [
    "5. Move (not copy) the following **two** files that are present in the **`~/ros2_ws/src`** path, into the source directory path of the **ROS2** package that you created, that is, inside the **`~/ros2_ws/src/linux_basics_project/linux_basics_project`** path.\n",
    "   - **`robot_interface.py`**\n",
    "     - This is the main **ROS2** program written in **Python** to communicate with the robot.\n",
    "     - **You will not modify anything in this file. If you change something, then the robot might not work.**\n",
    "     - You may, however, have a look at the program if you are curious to know what is in there!\n",
    "   - **`simple_patrol.bash`**\n",
    "     - This is a sample **bash** script containing a robot control task to move the robot around in the arena.\n",
    "     - **You do not have to modify anything in this script. This is a fully working example program written in bash script.**\n",
    "     - The robot control algorithm used is not good by any means, but this script will give you an idea on how to program with **bash** script."
   ]
  },
  {
   "cell_type": "markdown",
   "metadata": {},
   "source": [
    "6. Now, provide executable permissions to the above **two** files, that you just moved into your **ROS2** package, so the programs can be executed."
   ]
  },
  {
   "cell_type": "markdown",
   "metadata": {},
   "source": [
    "7. Your **ROS2** package folder structure should look similar to the image shown below.\n",
    "\n",
    "<center><img src=\"images/project_file_structure_task2_1.png\" width=\"750\"/></center>"
   ]
  },
  {
   "cell_type": "markdown",
   "metadata": {},
   "source": [
    "8. Now, execute the **Simple Patrol** program in the **simulation** and on the **real robot** to experience how the robot behaves in each working environment (simulation and real time). Follow the steps described below to get the robot working on each environment."
   ]
  },
  {
   "cell_type": "markdown",
   "metadata": {},
   "source": [
    "### Simulation:"
   ]
  },
  {
   "cell_type": "markdown",
   "metadata": {},
   "source": [
    "1. In a new **Terminal** window, launch the **Gazebo** simulation using the commands specified in the **Launching the Simulation** section above."
   ]
  },
  {
   "cell_type": "markdown",
   "metadata": {},
   "source": [
    "2. In a second new **Terminal** window, launch the **Robot Interface** program.\n",
    "   - After starting the program, wait for **5 seconds** for the program to initialize and print **`READY !!!`**."
   ]
  },
  {
   "cell_type": "markdown",
   "metadata": {},
   "source": [
    "<div class=\"execute\" style=\"width:14.0em;height:1.5em;border-radius:0.8em;background:Silver\">\n",
    "  <p class=\"executetext\" style=\"text-align:center;color:Black\">\n",
    "    <i class=\"fa fa-terminal\" style=\"font-size:1.5em\"></i>\n",
    "    &nbsp;\n",
    "    <b>Execute in Terminal</b>\n",
    "  </p>\n",
    "</div>"
   ]
  },
  {
   "cell_type": "code",
   "execution_count": null,
   "metadata": {},
   "outputs": [],
   "source": [
    "cd ~/ros2_ws/src/linux_basics_project/linux_basics_project/"
   ]
  },
  {
   "cell_type": "code",
   "execution_count": null,
   "metadata": {},
   "outputs": [],
   "source": [
    "./robot_interface.py"
   ]
  },
  {
   "cell_type": "markdown",
   "metadata": {},
   "source": [
    "3. In a third new **Terminal** window, launch the **Simple Patrol** program. This program will make the robot start moving around the arena.\n",
    "   - **Note:** Make sure that the **Robot Interface** program is ready, otherwise the robot will not start moving!"
   ]
  },
  {
   "cell_type": "markdown",
   "metadata": {},
   "source": [
    "<div class=\"execute\" style=\"width:14.0em;height:1.5em;border-radius:0.8em;background:Silver\">\n",
    "  <p class=\"executetext\" style=\"text-align:center;color:Black\">\n",
    "    <i class=\"fa fa-terminal\" style=\"font-size:1.5em\"></i>\n",
    "    &nbsp;\n",
    "    <b>Execute in Terminal</b>\n",
    "  </p>\n",
    "</div>"
   ]
  },
  {
   "cell_type": "code",
   "execution_count": null,
   "metadata": {},
   "outputs": [],
   "source": [
    "cd ~/ros2_ws/src/linux_basics_project/linux_basics_project/"
   ]
  },
  {
   "cell_type": "code",
   "execution_count": null,
   "metadata": {},
   "outputs": [],
   "source": [
    "./simple_patrol.bash"
   ]
  },
  {
   "cell_type": "markdown",
   "metadata": {},
   "source": [
    "Here is a sample output animation of the **Simple Patrol** program in the **Simulation** environment. Note that the algorithm works with a lot of uncertainty (randomness). So the your output can be different from what is shown in the below animation. You will not get the exact same results.\n",
    "\n",
    "**NOTE:** The animations shown below runs at ***`8x`*** the actual speed.\n",
    "\n",
    "***Simulation:***\n",
    "<center><img src=\"animations/linux_basics_task2_sim.gif\" width=\"750\"/></center>"
   ]
  },
  {
   "cell_type": "markdown",
   "metadata": {},
   "source": [
    "### Real Robot Lab:"
   ]
  },
  {
   "cell_type": "markdown",
   "metadata": {},
   "source": [
    "1. **Make a reservation** for the **TurtleBot** real robot lab and **connect to your robot** on the time of reservation from this **rosject**."
   ]
  },
  {
   "cell_type": "markdown",
   "metadata": {},
   "source": [
    "2. Once connected, in a new **Terminal** window, launch the **Bringup** program using the commands specified in the **Test your Programs on the Real Robot** section below."
   ]
  },
  {
   "cell_type": "markdown",
   "metadata": {},
   "source": [
    "3. In a second new **Terminal** window, launch the **Robot Interface** program.\n",
    "   - After starting the program, wait for **5 seconds** for the program to initialize and print **`READY !!!`**."
   ]
  },
  {
   "cell_type": "markdown",
   "metadata": {},
   "source": [
    "<div class=\"execute\" style=\"width:14.0em;height:1.5em;border-radius:0.8em;background:Silver\">\n",
    "  <p class=\"executetext\" style=\"text-align:center;color:Black\">\n",
    "    <i class=\"fa fa-terminal\" style=\"font-size:1.5em\"></i>\n",
    "    &nbsp;\n",
    "    <b>Execute in Terminal</b>\n",
    "  </p>\n",
    "</div>"
   ]
  },
  {
   "cell_type": "code",
   "execution_count": null,
   "metadata": {},
   "outputs": [],
   "source": [
    "cd ~/ros2_ws/src/linux_basics_project/linux_basics_project/"
   ]
  },
  {
   "cell_type": "code",
   "execution_count": null,
   "metadata": {},
   "outputs": [],
   "source": [
    "./robot_interface.py"
   ]
  },
  {
   "cell_type": "markdown",
   "metadata": {},
   "source": [
    "4. In a third new **Terminal** window, launch the **Simple Patrol** program. This program will make the robot start moving around the arena.\n",
    "   - **Note:** Make sure that the **Robot Interface** program is ready, otherwise the robot will not start moving!"
   ]
  },
  {
   "cell_type": "markdown",
   "metadata": {},
   "source": [
    "<div class=\"execute\" style=\"width:14.0em;height:1.5em;border-radius:0.8em;background:Silver\">\n",
    "  <p class=\"executetext\" style=\"text-align:center;color:Black\">\n",
    "    <i class=\"fa fa-terminal\" style=\"font-size:1.5em\"></i>\n",
    "    &nbsp;\n",
    "    <b>Execute in Terminal</b>\n",
    "  </p>\n",
    "</div>"
   ]
  },
  {
   "cell_type": "code",
   "execution_count": null,
   "metadata": {},
   "outputs": [],
   "source": [
    "cd ~/ros2_ws/src/linux_basics_project/linux_basics_project/"
   ]
  },
  {
   "cell_type": "code",
   "execution_count": null,
   "metadata": {},
   "outputs": [],
   "source": [
    "./simple_patrol.bash"
   ]
  },
  {
   "cell_type": "markdown",
   "metadata": {},
   "source": [
    "Here is a sample output animation of the **Simple Patrol** program in the **Real Robot Lab** environment. Note that the algorithm works with a lot of uncertainty (randomness). So the your output can be different from what is shown in the below animation. You will not get the exact same results.\n",
    "\n",
    "**NOTE:** The animations shown below runs at ***`8x`*** the actual speed.\n",
    "\n",
    "***Real Robot:***\n",
    "<center><img src=\"animations/linux_basics_task2_real.gif\" width=\"750\"/></center>"
   ]
  },
  {
   "cell_type": "markdown",
   "metadata": {},
   "source": [
    "Now, just as mentioned in the introduction for this part, you will create a **bash** file with some functions which you will use for the next part of this project."
   ]
  },
  {
   "cell_type": "markdown",
   "metadata": {},
   "source": [
    "9. Inside the **ROS2** package source directory, create a **bash** script file named **`robot_functions.bash`**. Once created, provide executable permissions to this file.\n",
    "   - Inside this file you will create a set of **`getter`** and **`setter`** functions to acquire some parameter values from the **Robot Interface** program.\n",
    "   - You will simply copy and paste the functions that are already provided in the **Simple Patrol** file and expand those set of functions.\n",
    "   - You might have noticed that the functions follow a specific naming pattern."
   ]
  },
  {
   "cell_type": "markdown",
   "metadata": {},
   "source": [
    "**Getter Function:**\n",
    "\n",
    "```bash\n",
    "get_scan_front_ray_range() {\n",
    " ros2 param get /robot_interface scan_front_ray_range | awk '{print $4}'\n",
    "}\n",
    "```"
   ]
  },
  {
   "cell_type": "markdown",
   "metadata": {},
   "source": [
    "The above **getter** function, for example, follows the following pattern:\n",
    "\n",
    "This function will **get** the value of a parameter, from the **Robot Interface** program.\n",
    "\n",
    "```bash\n",
    "get_<parameter_name>() {\n",
    " ros2 param get /robot_interface <parameter_name> | awk '{print $4}'\n",
    "}\n",
    "```"
   ]
  },
  {
   "cell_type": "markdown",
   "metadata": {},
   "source": [
    "**Setter Function:**\n",
    "\n",
    "```bash\n",
    "set_cmd_vel_linear () {\n",
    " ros2 param set /robot_interface cmd_vel_linear \"$1\"\n",
    " return 0\n",
    "}\n",
    "```"
   ]
  },
  {
   "cell_type": "markdown",
   "metadata": {},
   "source": [
    "The above **setter** function, for example, follows the following pattern:\n",
    "\n",
    "This function will **set** the value of a parameter, to the **Robot Interface** program.\n",
    "\n",
    "```bash\n",
    "set_<parameter_name> () {\n",
    " ros2 param set /robot_interface <parameter_name> \"$1\"\n",
    " return 0\n",
    "}\n",
    "```"
   ]
  },
  {
   "cell_type": "markdown",
   "metadata": {},
   "source": [
    "The **`robot_functions.bash`** file will have the following content structure:\n",
    "\n",
    "```bash\n",
    "#! /usr/bin/bash\n",
    "# the above line is called a shebang\n",
    "# the above line must be the first line always\n",
    "# everything comes after the shebang line\n",
    "\n",
    "# getter functions\n",
    "# (define all your getter functions here)\n",
    "\n",
    "# setter functions\n",
    "# (define all your setter functions here)\n",
    "\n",
    "# End of Code\n",
    "```"
   ]
  },
  {
   "cell_type": "code",
   "execution_count": null,
   "metadata": {},
   "outputs": [],
   "source": [
    "Here is a list of all the **getter** and **setter** functions that you need to implement. The functions will follow the exact same structure as indicated above. The below list only shows the parameters that are available for **get** and **set** actions. Your task is to create functions for the below specified parameter names.\n",
    "\n",
    "**Getters:**\n",
    "- **`cmd_vel_linear`**\n",
    "  - This parameter gets the value of the linear velocity of the robot, measured in meters/second.\n",
    "- **`cmd_vel_angular`**\n",
    "  - This parameter gets the value of the angular velocity of the robot, measured in radians/second.\n",
    "- **`scan_angle_min`**\n",
    "  - This parameter gets the value of the minimum angle of the laser scanner. This is the angle of the ray at the zeroth index. Measured in radians.\n",
    "- **`scan_angle_max`**\n",
    "  - This parameter gets the value of the maximum angle of the laser scanner. This is the angle of the ray at the last index. Measured in radians.\n",
    "- **`scan_angle_increment`**\n",
    "  - This parameter gets the value of the resolution of each ray. This value is equivalent to (360 / number of rays) expressed in radians.\n",
    "- **`scan_range_min`**\n",
    "  - This parameter gets the minimum scan range of the laser scanner in meters.\n",
    "- **`scan_range_max`**\n",
    "  - This parameter gets the maximum scan range of the laser scanner in meters.\n",
    "- **`scan_ranges_count`**\n",
    "  - This parameter gets the total count of the rays the laser scanner uses.\n",
    "- **`scan_ranges_array`**\n",
    "  - This parameter gets all the range values from all the rays as a float array.\n",
    "- **`scan_back_ray_index`**\n",
    "  - This parameter gets the index value of the laser ray at the back side of the robot.\n",
    "- **`scan_right_ray_index`**\n",
    "  - This parameter gets the index value of the laser ray at the right side of the robot.\n",
    "- **`scan_front_right_ray_index`**\n",
    "  - This parameter gets the index value of the laser ray at the front right side of the robot.\n",
    "- **`scan_front_ray_index`**\n",
    "  - This parameter gets the index value of the laser ray at the front side of the robot.\n",
    "- **`scan_front_left_ray_index`**\n",
    "  - This parameter gets the index value of the laser ray at the front left side of the robot.\n",
    "- **`scan_left_ray_index`**\n",
    "  - This parameter gets the index value of the laser ray at the left side of the robot.\n",
    "- **`scan_ray_range`**\n",
    "  - This parameter gets the range value of the ray index set through the setter function below.\n",
    "  - For example, when the **`scan_ray_index`** is set to **`100`**, this parameter returns the scan range of the ray at index **`100`**.\n",
    "- **`scan_back_ray_range`**\n",
    "  - This parameter gets the scan range value at the back side of the robot.\n",
    "- **`scan_right_ray_range`**\n",
    "  - This parameter gets the scan range value at the right side of the robot.\n",
    "- **`scan_front_right_ray_range`**\n",
    "  - This parameter gets the scan range value at the front right side of the robot.\n",
    "- **`scan_front_ray_range`**\n",
    "  - This parameter gets the scan range value at the front side of the robot.\n",
    "- **`scan_front_left_ray_range`**\n",
    "  - This parameter gets the scan range value at the front left side of the robot.\n",
    "- **`scan_left_ray_range`**\n",
    "  - This parameter gets the scan range value at the left side of the robot.\n",
    "- **`odom_position_x`**\n",
    "  - This parameter gets the position of the robot in the x-axis with respect to the world, measured in meters.\n",
    "- **`odom_position_y`**\n",
    "  - This parameter gets the position of the robot in the y-axis with respect to the world, measured in meters.\n",
    "- **`odom_position_z`**\n",
    "  - This parameter gets the position of the robot in the z-axis with respect to the world, measured in meters.\n",
    "- **`odom_distance`**\n",
    "  - This parameter gets the distance covered by the robot since the start of the **Robot Interface** program.\n",
    "  - This value will start from **`0.000`** every time the **Robot Interface** program is restarted.\n",
    "- **`odom_orientation_r`**\n",
    "  - This parameter gets the orientation of the robot in the x-axis with respect to the world.\n",
    "  - This is the **roll** angle of the robot, measured in radians.\n",
    "- **`odom_orientation_p`**\n",
    "  - This parameter gets the orientation of the robot in the y-axis with respect to the world.\n",
    "  - This is the **pitch** angle of the robot, measured in radians.\n",
    "- **`odom_orientation_y`**\n",
    "  - This parameter gets the orientation of the robot in the z-axis with respect to the world.\n",
    "  - This is the **yaw** angle of the robot, measured in radians.\n",
    "- **`odom_direction`**\n",
    "  - This parameter gets the direction the robot in facing as a **3-character** string, based on the **yaw** value.\n",
    "  - This returns the directions as one of the following direction values:\n",
    "  - **`-N-`, `NNW`, `N-W`, `WNW`, `-W-`, `WSW`, `S-W`, `SSW`, `-S-`, `SSE`, `S-E`, `ESE`, `-E-`, `ENE`, `N-E`, `NNE`**\n",
    "- **`imu_angular_velocity_x`**\n",
    "  - This parameter gets the instantaneous angular velocity of the robot in the x-axis, measured in radians/second.\n",
    "- **`imu_angular_velocity_y`**\n",
    "  - This parameter gets the instantaneous angular velocity of the robot in the y-axis, measured in radians/second.\n",
    "- **`imu_angular_velocity_z`**\n",
    "  - This parameter gets the instantaneous angular velocity of the robot in the z-axis, measured in radians/second.\n",
    "- **`imu_linear_acceleration_x`**\n",
    "  - This parameter gets the instantaneous acceleration of the robot in the x-axis, measured in meters/second^2.\n",
    "- **`imu_linear_acceleration_y`**\n",
    "  - This parameter gets the instantaneous acceleration of the robot in the y-axis, measured in meters/second^2.\n",
    "- **`imu_linear_acceleration_z`**\n",
    "  - This parameter gets the instantaneous acceleration of the robot in the z-axis, measured in meters/second^2.\n",
    "\n",
    "**Setters:**\n",
    "- **`cmd_vel_linear`**\n",
    "  - This parameter sets the value for the linear velocity of the robot, measured in meters/second.\n",
    "- **`cmd_vel_angular`**\n",
    "  - This parameter sets the value for the angular velocity of the robot, measured in radians/second.\n",
    "- **`scan_ray_index`**\n",
    "  - This parameter sets the value for the ray index of the robot laser scanner to get the range value of that ray with the specified index.\n",
    "\n",
    "**NOTE:** You may refer to the **Robot Interface** program to know more about these parameters. But please make sure you do not modify anything in that program file, otherwise the robot might not work as expected."
   ]
  },
  {
   "cell_type": "markdown",
   "metadata": {},
   "source": [
    "10. At this point, your **ROS2** package folder structure should look similar to the image shown below.\n",
    "\n",
    "<center><img src=\"images/project_file_structure_task2_2.png\" width=\"750\"/></center>"
   ]
  },
  {
   "cell_type": "markdown",
   "metadata": {},
   "source": [
    "**REMINDER:**\n",
    "- Make sure that **Gazebo** is running in another terminal when you are testing in the **Simulation**.\n",
    "- Make sure that **Bringup** is running in another terminal when you are testing on the **Real Robot**."
   ]
  },
  {
   "cell_type": "markdown",
   "metadata": {},
   "source": [
    "<div class=\"separator-primary\" style=\"height:1.6em;width:100%;background:Tomato\">\n",
    "  <p class=\"separatortitle\" style=\"text-align:center;color:Black\"><b>- Important Notes -</b></p>\n",
    "</div>"
   ]
  },
  {
   "cell_type": "markdown",
   "metadata": {},
   "source": [
    "At this point, you should have a clear understanding of how the robot can be controlled using a **bash** script in both the environments - in the simulation and in the real robot lab. You should have also understood the simplicity and complexity that lies in creating a program to control a robot just using a **bash** script along with a robot operating framework, such as **ROS2** in the case of this project."
   ]
  },
  {
   "cell_type": "markdown",
   "metadata": {},
   "source": [
    "<div class=\"separator-primary\" style=\"height:1.6em;width:100%;background:Tomato\">\n",
    "  <p class=\"separatortitle\" style=\"text-align:center;color:Black\"><b>- End of Important Notes -</b></p>\n",
    "</div>"
   ]
  },
  {
   "cell_type": "markdown",
   "metadata": {},
   "source": [
    "<div class=\"section\" style=\"height:1.8em;background:WhiteSmoke\">\n",
    "  <h2 class=\"section-title\" style=\"text-align:center\">\n",
    "    <span class=\"section-title-primary\" style=\"text-align:center;color:RoyalBlue\">Part 3</span>\n",
    "    &nbsp;&nbsp;&nbsp;\n",
    "    <span class=\"section-title-secondary\" style=\"text-align:center;color:Black\">Implement Basic Robot Algorithms</span>\n",
    "  </h2>\n",
    "</div>"
   ]
  },
  {
   "cell_type": "markdown",
   "metadata": {},
   "source": [
    "For this part of the project, you will implement a very simple and basic robot algorithm, **Naive Obstacle Avoider**, using the **bash** scripting language. You will also make use of the **Robot Functions** script file that you created in the previous part of this project to augment your robot algorithm program."
   ]
  },
  {
   "cell_type": "markdown",
   "metadata": {},
   "source": [
    "Follow the steps listed below to get started with this part:"
   ]
  },
  {
   "cell_type": "markdown",
   "metadata": {},
   "source": [
    "1. Create a new **bash** script file called **`obstacle_avoider.bash`**.\n",
    "   - Open a new **Terminal** window.\n",
    "   - Navigate to the **`~/ros2_ws/src/linux_basics_project/linux_basics_project/`** directory.\n",
    "   - Use the appropriate **Linux** command to create a new file named **`obstacle_avoider.bash`**."
   ]
  },
  {
   "cell_type": "markdown",
   "metadata": {},
   "source": [
    "2. Now, using the **IDE**, you can start writing your program into this **`obstacle_avoider.bash`** script file.\n",
    "   - As the first step, you will include the **shebang** line.\n",
    "   - As the second step, you will include the **Robot Functions** file into this **bash** script.\n",
    "   - Finally, you can start programming the **Naive Obstacle Avoider** algorithm, using the **bash** script.\n",
    "   - Don't worry, you are not going to program this entirely by yourself. Below you can find a code-snippet containing the whole (naive) obstacle avoider algorithm as commented pseudo-code. All you have to do is refer to the **Simple Patrol** program and write your code accordingly for this task.\n",
    "   - Copy and paste the below code-snippet into the **`obstacle_avoider.bash`** file and start writing the program where you find the **`# ...`** lines.\n",
    "   \n",
    "**NOTE:** As the name implies, this is a **naive** algorithm. This means that this algorithm is simple, not very good and not very optimized. This is just to give you an idea of how to program and control a robot with the **bash** script. So **do not panic** if your robot is not moving accurately or crashes into obstacles sometimes!"
   ]
  },
  {
   "cell_type": "markdown",
   "metadata": {},
   "source": [
    "<div class=\"execute\" style=\"width:15.00em;height:1.5em;border-radius:0.8em;background:Silver\">\n",
    "  <p class=\"executetext\" style=\"text-align:center;color:Black\">\n",
    "    <i class=\"fa fa-code\" style=\"font-size:1.5em\"></i>\n",
    "    &nbsp;\n",
    "    <b>obstacle_avoider.bash</b>\n",
    "  </p>\n",
    "</div>"
   ]
  },
  {
   "cell_type": "code",
   "execution_count": null,
   "metadata": {},
   "outputs": [],
   "source": [
    "#! /usr/bin/bash\n",
    "\n",
    "# include the functions library\n",
    "source ./robot_functions.bash\n",
    "\n",
    "# naive obstacle avoider\n",
    "\n",
    "# this is an infinite while loop - use ctrl+c to break\n",
    "echo \"Running Naive Obstacle Avoider with Bash Script...\"\n",
    "echo \"Press Ctrl+C to Terminate...\"\n",
    "\n",
    "# make sure that the robot is stopped initially\n",
    "# set linear velocity to zero here\n",
    "# ...\n",
    "# set angular velocity to zero here\n",
    "# ...\n",
    "\n",
    "# set obstacle avoidance distance threshold\n",
    "# ...\n",
    "\n",
    "# your own function definitions, if you have any\n",
    "# ...\n",
    "# ...\n",
    "# ...\n",
    "\n",
    "# main while loop for naive obstacle avoider\n",
    "echo \"~~~~~~~~~~~~~~~~~~~~~~~~~~~~~~\"\n",
    "while :\n",
    "do\n",
    "  # get all the five scan ranges\n",
    "  # get the left scan range\n",
    "  # ...\n",
    "  # get the front left scan range\n",
    "  # ...\n",
    "  # get the front scan range\n",
    "  # ...\n",
    "  # get the front right scan range\n",
    "  # ...\n",
    "  # get the right scan range\n",
    "  # ...\n",
    "\n",
    "  # check if the three frontal scan ranges are less than threshold\n",
    "  # check if front left scan is less than threshold\n",
    "  # ...\n",
    "  # check if front scan is less than threshold\n",
    "  # ...\n",
    "  # check if front right scan is less than threshold\n",
    "  # ...\n",
    "\n",
    "  # provide conditions for 8 different cases of frontal scan ranges\n",
    "  # if front left is not free and front is not free and front right is not free\n",
    "  # ...\n",
    "    # decide direction to turn based on left and right scan ranges\n",
    "    # if left scan range is more than right scan range\n",
    "      # turn left\n",
    "      # ...\n",
    "    # if left scan range is less than right scan range\n",
    "      # turn right\n",
    "      # ...\n",
    "  # elif front left is not free and front is not free and front right is free\n",
    "    # turn right\n",
    "    # ...\n",
    "  # elif front left is not free and front is free and front right is not free\n",
    "    # move forward for roughly (front range - threshold) meters\n",
    "    # ...\n",
    "    # calculate time with fixed speed of 0.1 m/s\n",
    "    # ...\n",
    "    # subtract 1 second for parameter setting delay\n",
    "    # ...\n",
    "    # ...\n",
    "    # ...\n",
    "    # set linear velocity back to zero\n",
    "    # ...\n",
    "  # elif front left is not free and front is free and front right is free\n",
    "    # turn right\n",
    "    # ...\n",
    "  # elif front left is free and front is not free and front right is not free\n",
    "    # turn left\n",
    "    # ...\n",
    "  # elif front left is free and front is not free and front right is free\n",
    "    # decide direction to turn based on left and right scan ranges\n",
    "    # if left scan range is more than right scan range\n",
    "      # turn left\n",
    "      # ...\n",
    "    # if left scan range is less than right scan range\n",
    "      # turn right\n",
    "      # ...\n",
    "  # elif front left is free and front is free and front right is not free\n",
    "    # turn left\n",
    "    # ...\n",
    "  # else\n",
    "    # if front left is free and front is free and front right is free\n",
    "    # move forward for roughly (front range - threshold) meters\n",
    "    # ...\n",
    "    # calculate time with fixed speed of 0.1 m/s\n",
    "    # ...\n",
    "    # subtract 1 second for parameter setting delay\n",
    "    # ...\n",
    "    # ...\n",
    "    # ...\n",
    "    # set linear velocity back to zero\n",
    "    # ...\n",
    "\n",
    "  # print a divider line to show iteration is complete\n",
    "  echo \"~~~~~~~~~~~~~~~~~~~~~~~~~~~~~~\"\n",
    "done\n",
    "\n",
    "# End of Code"
   ]
  },
  {
   "cell_type": "markdown",
   "metadata": {},
   "source": [
    "3. Now, create another new **bash** script file named **`robot_statistics.bash`**, within the same directory as the previous program.\n",
    "   - This program will display the robot statistics when executed.\n",
    "   - Again, the code-snippet below indicates the contents of this file as commented pseudo-code.\n",
    "   - Implement the necessary program statements and execute this program along with the **Obstacle Avoider** program.\n",
    "   - Remember to provide executable permissions to this file, otherwise the script cannot be executed!\n",
    "   - Copy and paste the below code-snippet into the **`robot_statistics.bash`** file and start writing the program where you find the **`# ...`** lines."
   ]
  },
  {
   "cell_type": "markdown",
   "metadata": {},
   "source": [
    "<div class=\"execute\" style=\"width:15.00em;height:1.5em;border-radius:0.8em;background:Silver\">\n",
    "  <p class=\"executetext\" style=\"text-align:center;color:Black\">\n",
    "    <i class=\"fa fa-code\" style=\"font-size:1.5em\"></i>\n",
    "    &nbsp;\n",
    "    <b>robot_statistics.bash</b>\n",
    "  </p>\n",
    "</div>"
   ]
  },
  {
   "cell_type": "code",
   "execution_count": null,
   "metadata": {},
   "outputs": [],
   "source": [
    "#! /usr/bin/bash\n",
    "\n",
    "# include the functions library\n",
    "source ./robot_functions.bash\n",
    "\n",
    "# robot statistics\n",
    "\n",
    "# this is an infinite while loop - use ctrl+c to break\n",
    "echo \"Running Robot Statistics with Bash Script...\"\n",
    "echo \"Press Ctrl+C to Terminate...\"\n",
    "\n",
    "# main while loop for naive obstacle avoider\n",
    "echo \"~~~~~~~~~~~~~~~~~~~~~~~~~~~~~~\"\n",
    "while :\n",
    "do\n",
    "  # print distance covered since start\n",
    "  # ...\n",
    "  # print current direction of robot\n",
    "  # ...\n",
    "  # print odom position x, y, z\n",
    "  # ...\n",
    "  # print odom orientation r, p, y\n",
    "  # ...\n",
    "  # print imu angular velocity x, y, z\n",
    "  # ...\n",
    "  # print imu linear acceleration x, y, z\n",
    "  # ...\n",
    "\n",
    "  # print a divider line to show iteration is complete\n",
    "  echo \"~~~~~~~~~~~~~~~~~~~~~~~~~~~~~~\"\n",
    "done\n",
    "\n",
    "# End of Code"
   ]
  },
  {
   "cell_type": "markdown",
   "metadata": {},
   "source": [
    "4. At this point, your **ROS2** package folder structure should look similar to the image shown below.\n",
    "\n",
    "<center><img src=\"images/project_file_structure_task3.png\" width=\"750\"/></center>"
   ]
  },
  {
   "cell_type": "markdown",
   "metadata": {},
   "source": [
    "5. Test all the tasks that you programmed in the above steps:\n",
    "   -  The robot **must** be able to perform the tasks in **both** the environments - the **Simulation** and the **Real Robot**.\n",
    "   - **IMPORTANT ADVICE:**\n",
    "     - Your program does **not** have to be perfect or optimized.\n",
    "     - Your program does **not** have to be complex or tedious.\n",
    "     - Your program does **not** have to implement any special or advanced algorithms.\n",
    "     - In simple words, your program must do the job, what you have programmed it to do.\n",
    "     - The goal of this project is to test your **Linux** proficiency, not your **Robotics** skills yet!"
   ]
  },
  {
   "cell_type": "markdown",
   "metadata": {},
   "source": [
    "### Simulation:"
   ]
  },
  {
   "cell_type": "markdown",
   "metadata": {},
   "source": [
    "1. In a new **Terminal** window, launch the **Gazebo** simulation using the commands specified in the **Launching the Simulation** section above."
   ]
  },
  {
   "cell_type": "markdown",
   "metadata": {},
   "source": [
    "2. In a second new **Terminal** window, launch the **Robot Interface** program.\n",
    "   - After starting the program, wait for **5 seconds** for the program to initialize and print **`READY !!!`**."
   ]
  },
  {
   "cell_type": "markdown",
   "metadata": {},
   "source": [
    "<div class=\"execute\" style=\"width:14.0em;height:1.5em;border-radius:0.8em;background:Silver\">\n",
    "  <p class=\"executetext\" style=\"text-align:center;color:Black\">\n",
    "    <i class=\"fa fa-terminal\" style=\"font-size:1.5em\"></i>\n",
    "    &nbsp;\n",
    "    <b>Execute in Terminal</b>\n",
    "  </p>\n",
    "</div>"
   ]
  },
  {
   "cell_type": "code",
   "execution_count": null,
   "metadata": {},
   "outputs": [],
   "source": [
    "cd ~/ros2_ws/src/linux_basics_project/linux_basics_project/"
   ]
  },
  {
   "cell_type": "code",
   "execution_count": null,
   "metadata": {},
   "outputs": [],
   "source": [
    "./robot_interface.py"
   ]
  },
  {
   "cell_type": "markdown",
   "metadata": {},
   "source": [
    "3. In a third new **Terminal** window, launch the **Obstacle Avoider** program. This program will make the robot start moving around the arena.\n",
    "   - **Note:** Make sure that the **Robot Interface** program is ready, otherwise the robot will not start moving!"
   ]
  },
  {
   "cell_type": "markdown",
   "metadata": {},
   "source": [
    "<div class=\"execute\" style=\"width:14.0em;height:1.5em;border-radius:0.8em;background:Silver\">\n",
    "  <p class=\"executetext\" style=\"text-align:center;color:Black\">\n",
    "    <i class=\"fa fa-terminal\" style=\"font-size:1.5em\"></i>\n",
    "    &nbsp;\n",
    "    <b>Execute in Terminal</b>\n",
    "  </p>\n",
    "</div>"
   ]
  },
  {
   "cell_type": "code",
   "execution_count": null,
   "metadata": {},
   "outputs": [],
   "source": [
    "cd ~/ros2_ws/src/linux_basics_project/linux_basics_project/"
   ]
  },
  {
   "cell_type": "code",
   "execution_count": null,
   "metadata": {},
   "outputs": [],
   "source": [
    "./obstacle_avoider.bash"
   ]
  },
  {
   "cell_type": "markdown",
   "metadata": {},
   "source": [
    "4. In a fourth new **Terminal** window, launch the **Robot Statistics** program. This program will display the robot statistics while the robot is moving around the arena.\n",
    "   - **Note:** Make sure that the **Robot Interface** program is ready, otherwise this program will not work!"
   ]
  },
  {
   "cell_type": "markdown",
   "metadata": {},
   "source": [
    "<div class=\"execute\" style=\"width:14.0em;height:1.5em;border-radius:0.8em;background:Silver\">\n",
    "  <p class=\"executetext\" style=\"text-align:center;color:Black\">\n",
    "    <i class=\"fa fa-terminal\" style=\"font-size:1.5em\"></i>\n",
    "    &nbsp;\n",
    "    <b>Execute in Terminal</b>\n",
    "  </p>\n",
    "</div>"
   ]
  },
  {
   "cell_type": "code",
   "execution_count": null,
   "metadata": {},
   "outputs": [],
   "source": [
    "cd ~/ros2_ws/src/linux_basics_project/linux_basics_project/"
   ]
  },
  {
   "cell_type": "code",
   "execution_count": null,
   "metadata": {},
   "outputs": [],
   "source": [
    "./robot_statistics.bash"
   ]
  },
  {
   "cell_type": "markdown",
   "metadata": {},
   "source": [
    "Here is a sample output animation of the **Obstacle Avoider** and **Robot Statistics** programs running together in the **Simulation** environment. Note that the algorithm works with a lot of uncertainty (randomness). So the your output can be different from what is shown in the below animation. You will not get the exact same results.\n",
    "\n",
    "**NOTE:** The animations shown below runs at ***`8x`*** the actual speed.\n",
    "\n",
    "***Simulation:***\n",
    "<center><img src=\"animations/linux_basics_task3_sim.gif\" width=\"750\"/></center>"
   ]
  },
  {
   "cell_type": "markdown",
   "metadata": {},
   "source": [
    "### Real Robot Lab:"
   ]
  },
  {
   "cell_type": "markdown",
   "metadata": {},
   "source": [
    "1. **Make a reservation** for the **TurtleBot** real robot lab and **connect to your robot** on the time of reservation from this **rosject**."
   ]
  },
  {
   "cell_type": "markdown",
   "metadata": {},
   "source": [
    "2. Once connected, in a new **Terminal** window, launch the **Bringup** program using the commands specified in the **Test your Programs on the Real Robot** section below."
   ]
  },
  {
   "cell_type": "markdown",
   "metadata": {},
   "source": [
    "3. In a second new **Terminal** window, launch the **Robot Interface** program.\n",
    "   - After starting the program, wait for **5 seconds** for the program to initialize and print **`READY !!!`**."
   ]
  },
  {
   "cell_type": "markdown",
   "metadata": {},
   "source": [
    "<div class=\"execute\" style=\"width:14.0em;height:1.5em;border-radius:0.8em;background:Silver\">\n",
    "  <p class=\"executetext\" style=\"text-align:center;color:Black\">\n",
    "    <i class=\"fa fa-terminal\" style=\"font-size:1.5em\"></i>\n",
    "    &nbsp;\n",
    "    <b>Execute in Terminal</b>\n",
    "  </p>\n",
    "</div>"
   ]
  },
  {
   "cell_type": "code",
   "execution_count": null,
   "metadata": {},
   "outputs": [],
   "source": [
    "cd ~/ros2_ws/src/linux_basics_project/linux_basics_project/"
   ]
  },
  {
   "cell_type": "code",
   "execution_count": null,
   "metadata": {},
   "outputs": [],
   "source": [
    "./robot_interface.py"
   ]
  },
  {
   "cell_type": "markdown",
   "metadata": {},
   "source": [
    "4. In a third new **Terminal** window, launch the **Obstacle Avoider** program. This program will make the robot start moving around the arena.\n",
    "   - **Note:** Make sure that the **Robot Interface** program is ready, otherwise the robot will not start moving!"
   ]
  },
  {
   "cell_type": "markdown",
   "metadata": {},
   "source": [
    "<div class=\"execute\" style=\"width:14.0em;height:1.5em;border-radius:0.8em;background:Silver\">\n",
    "  <p class=\"executetext\" style=\"text-align:center;color:Black\">\n",
    "    <i class=\"fa fa-terminal\" style=\"font-size:1.5em\"></i>\n",
    "    &nbsp;\n",
    "    <b>Execute in Terminal</b>\n",
    "  </p>\n",
    "</div>"
   ]
  },
  {
   "cell_type": "code",
   "execution_count": null,
   "metadata": {},
   "outputs": [],
   "source": [
    "cd ~/ros2_ws/src/linux_basics_project/linux_basics_project/"
   ]
  },
  {
   "cell_type": "code",
   "execution_count": null,
   "metadata": {},
   "outputs": [],
   "source": [
    "./obstacle_avoider.bash"
   ]
  },
  {
   "cell_type": "markdown",
   "metadata": {},
   "source": [
    "5. In a fourth new **Terminal** window, launch the **Robot Statistics** program. This program will display the robot statistics while the robot is moving around the arena.\n",
    "   - **Note:** Make sure that the **Robot Interface** program is ready, otherwise this program will not work!"
   ]
  },
  {
   "cell_type": "markdown",
   "metadata": {},
   "source": [
    "<div class=\"execute\" style=\"width:14.0em;height:1.5em;border-radius:0.8em;background:Silver\">\n",
    "  <p class=\"executetext\" style=\"text-align:center;color:Black\">\n",
    "    <i class=\"fa fa-terminal\" style=\"font-size:1.5em\"></i>\n",
    "    &nbsp;\n",
    "    <b>Execute in Terminal</b>\n",
    "  </p>\n",
    "</div>"
   ]
  },
  {
   "cell_type": "code",
   "execution_count": null,
   "metadata": {},
   "outputs": [],
   "source": [
    "cd ~/ros2_ws/src/linux_basics_project/linux_basics_project/"
   ]
  },
  {
   "cell_type": "code",
   "execution_count": null,
   "metadata": {},
   "outputs": [],
   "source": [
    "./robot_statistics.bash"
   ]
  },
  {
   "cell_type": "markdown",
   "metadata": {},
   "source": [
    "Here is a sample output animation of the **Obstacle Avoider** and **Robot Statistics** programs running together in the **Real Robot** environment. Note that the algorithm works with a lot of uncertainty (randomness). So the your output can be different from what is shown in the below animation. You will not get the exact same results.\n",
    "\n",
    "**NOTE:** The animations shown below runs at ***`8x`*** the actual speed.\n",
    "\n",
    "***Real Robot:***\n",
    "<center><img src=\"animations/linux_basics_task3_real.gif\" width=\"750\"/></center>\n",
    "\n",
    "**Note:** The **bringup** program might sometimes display an **ERROR** message in red color. Please **do not panic**, you can safely ignore this message, as this message will not block the execution of your program for this task on the real robot, just as shown in the animation above."
   ]
  },
  {
   "cell_type": "markdown",
   "metadata": {},
   "source": [
    "<div class=\"separator-primary\" style=\"height:1.6em;width:100%;background:Tomato\">\n",
    "  <p class=\"separatortitle\" style=\"text-align:center;color:Black\"><b>- Important Notes -</b></p>\n",
    "</div>"
   ]
  },
  {
   "cell_type": "markdown",
   "metadata": {},
   "source": [
    "At this point, you should have completed this whole project and have it working on both - the **Simulation** and on the **Real Robot**.\n",
    "\n",
    "With all the hard-work that you have put in into this project, you should now be motivated well-enough to take up **Robotics** as your future career and be ready to take on heavier challenges!\n",
    "\n",
    "Most importantly, you should now be ready to present your project to us as a **live-presentation** and show the world that you are a prospective formidable robotics candidate!"
   ]
  },
  {
   "cell_type": "markdown",
   "metadata": {},
   "source": [
    "<div class=\"separator-primary\" style=\"height:1.6em;width:100%;background:Tomato\">\n",
    "  <p class=\"separatortitle\" style=\"text-align:center;color:Black\"><b>- End of Important Notes -</b></p>\n",
    "</div>"
   ]
  },
  {
   "cell_type": "markdown",
   "metadata": {},
   "source": [
    "<div class=\"section\" style=\"height:1.8em;background:WhiteSmoke\">\n",
    "  <h2 class=\"section-title\" style=\"text-align:center\">\n",
    "    <span class=\"section-title-secondary\" style=\"text-align:center;color:Black\">Test your Programs in the Simulation</span>\n",
    "  </h2>\n",
    "</div>"
   ]
  },
  {
   "cell_type": "markdown",
   "metadata": {},
   "source": [
    "<span><b><span style=\"color:Red\">Remember: </span>If your robot is not responding properly in the simulation, then it will definitely not respond well on the real robot!</b></span>\n",
    "\n",
    "Real-life robot development works this way: first, test your program in a simulation. When it works there, then try it on a real robot. **Never the other way around.**"
   ]
  },
  {
   "cell_type": "markdown",
   "metadata": {},
   "source": [
    "Follow the steps below to test your robot in the simulation:"
   ]
  },
  {
   "cell_type": "markdown",
   "metadata": {},
   "source": [
    "1. Make sure the simulation is launched, as explained above."
   ]
  },
  {
   "cell_type": "markdown",
   "metadata": {},
   "source": [
    "2. In another terminal, launch the ***`teleop_twist_keyboard`*** program with the following command:\n",
    "\n",
    "<div class=\"execute\" style=\"width:14.0em;height:1.5em;border-radius:0.8em;background:Silver\">\n",
    "  <p class=\"executetext\" style=\"text-align:center;color:Black\">\n",
    "    <i class=\"fa fa-terminal\" style=\"font-size:1.5em\"></i>\n",
    "    &nbsp;\n",
    "    <b>Execute in Terminal</b>\n",
    "  </p>\n",
    "</div>"
   ]
  },
  {
   "cell_type": "code",
   "execution_count": null,
   "metadata": {},
   "outputs": [],
   "source": [
    "ros2 run teleop_twist_keyboard teleop_twist_keyboard"
   ]
  },
  {
   "cell_type": "markdown",
   "metadata": {},
   "source": [
    "3. Test if you can move the robot properly in the simulation.\n",
    "   - Use the keyboard keys to move the robot around in the simulation.\n",
    "   - **Remember:** You must have focus on the terminal that runs the ***`teleop`*** program in order to be able to move the robot in the simulation."
   ]
  },
  {
   "cell_type": "markdown",
   "metadata": {},
   "source": [
    "<span><b><span style=\"color:Red\">IMPORTANT: </span>It is very necessary that you understand how to use the **`teleop`** program. It will help you stop the robot, if your robot goes crazy during testing.</b></span>"
   ]
  },
  {
   "cell_type": "markdown",
   "metadata": {},
   "source": [
    "<div class=\"section\" style=\"height:1.8em;background:WhiteSmoke\">\n",
    "  <h2 class=\"section-title\" style=\"text-align:center\">\n",
    "    <span class=\"section-title-secondary\" style=\"text-align:center;color:Black\">Test your Programs on the Real Robot</span>\n",
    "  </h2>\n",
    "</div>"
   ]
  },
  {
   "cell_type": "markdown",
   "metadata": {},
   "source": [
    "Once your robot is working **100%** in the simulation, then it is time to test your package on the real robot."
   ]
  },
  {
   "cell_type": "markdown",
   "metadata": {},
   "source": [
    "Follow the steps to test your work on the real robot:\n",
    "\n",
    "1. Book a date and time in the ***Real Robot Lab*** (refer **How to Connect to the Real Robot** section below).\n",
    "2. On the date and time selected, open this rosject.\n",
    "3. Connect to the real robot lab from within this rosject (refer Appendix below).\n",
    "4. You can use the on-screen joystick that is displayed along with the camera streams to move the real robot.\n",
    "5. Now, instead of launching the simulation, you will launch the real robot commands."
   ]
  },
  {
   "cell_type": "markdown",
   "metadata": {},
   "source": [
    "6. Once connected to the real robot lab, launch the **real robot bringup** program in a new terminal with the following command:\n",
    "\n",
    "<div class=\"execute\" style=\"width:14.0em;height:1.5em;border-radius:0.8em;background:Silver\">\n",
    "  <p class=\"executetext\" style=\"text-align:center;color:Black\">\n",
    "    <i class=\"fa fa-terminal\" style=\"font-size:1.5em\"></i>\n",
    "    &nbsp;\n",
    "    <b>Execute in Terminal</b>\n",
    "  </p>\n",
    "</div>"
   ]
  },
  {
   "cell_type": "code",
   "execution_count": null,
   "metadata": {},
   "outputs": [],
   "source": [
    "source ~/simulation_ws/install/setup.bash\n",
    "ros2 launch turtlebot3_realrobot main_turtlebot3_lab.launch.xml"
   ]
  },
  {
   "cell_type": "markdown",
   "metadata": {},
   "source": [
    "7. In another terminal, launch the ***`teleop_twist_keyboard`*** program with the following command:\n",
    "\n",
    "<div class=\"execute\" style=\"width:14.0em;height:1.5em;border-radius:0.8em;background:Silver\">\n",
    "  <p class=\"executetext\" style=\"text-align:center;color:Black\">\n",
    "    <i class=\"fa fa-terminal\" style=\"font-size:1.5em\"></i>\n",
    "    &nbsp;\n",
    "    <b>Execute in Terminal</b>\n",
    "  </p>\n",
    "</div>"
   ]
  },
  {
   "cell_type": "code",
   "execution_count": null,
   "metadata": {},
   "outputs": [],
   "source": [
    "ros2 run teleop_twist_keyboard teleop_twist_keyboard"
   ]
  },
  {
   "cell_type": "markdown",
   "metadata": {},
   "source": [
    "8. Test if you can move the robot properly in the real robot lab.\n",
    "   - Use the keyboard keys to move the robot around in the real robot lab.\n",
    "   - **Remember:** You must have focus on the terminal that runs the ***`teleop`*** program in order to be able to move the robot in the simulation.\n",
    "   - You can also use the **on-screen joystick** that is located within the **Real Robot Lab Camera Stream** window to move the robot."
   ]
  },
  {
   "cell_type": "markdown",
   "metadata": {},
   "source": [
    "<span><b><span style=\"color:Red\">IMPORTANT: </span>It is very necessary that you understand how to use the **`teleop`** program. It will help you stop the robot, if your robot goes crazy during testing.</b></span>"
   ]
  },
  {
   "cell_type": "markdown",
   "metadata": {},
   "source": [
    "<div class=\"separator-primary\" style=\"height:1.6em;width:100%;background:Tomato\">\n",
    "  <p class=\"separatortitle\" style=\"text-align:center;color:Black\"><b>- Important Notes -</b></p>\n",
    "</div>"
   ]
  },
  {
   "cell_type": "markdown",
   "metadata": {},
   "source": [
    "Once you have all your programs working properly in the **Simulation** and on the **Real Robot** without any issues, it is time to book your **Live Presentation** with us to get your **Certificate!** (Refer to Appendix sections below.)"
   ]
  },
  {
   "cell_type": "markdown",
   "metadata": {},
   "source": [
    "<div class=\"separator-primary\" style=\"height:1.6em;width:100%;background:Tomato\">\n",
    "  <p class=\"separatortitle\" style=\"text-align:center;color:Black\"><b>- End of Important Notes -</b></p>\n",
    "</div>"
   ]
  },
  {
   "cell_type": "markdown",
   "metadata": {},
   "source": [
    "<div class=\"separator-primary\" style=\"height:1.6em;width:100%;background:GoldenRod\">\n",
    "  <p class=\"separatortitle\" style=\"text-align:center;color:Black\"><b>- Presentation Guide -</b></p>\n",
    "</div>"
   ]
  },
  {
   "cell_type": "markdown",
   "metadata": {},
   "source": [
    "Here is a list of things that you will demonstrate during your **Live Presentation** with us for this project:\n",
    "\n",
    "- Firstly, demonstrate the **Naive Obstacle Avoider** and **Robot Statistics** programs on the Real Robot **TurtleBot3**.\n",
    "- Next, demonstrate the **Naive Obstacle Avoider** and **Robot Statistics** programs in the **Gazebo** Simulation.\n",
    "- Then, quickly go through your **Naive Obstacle Avoider** and **Robot Statistics** codes and explain how you implemented the scripts.\n",
    "- You may use **presentation slides** to explain the challenging parts of this project and how you solved them.\n",
    "- The presentation time is **20 minutes**. Make sure you are well-prepared to demonstrate all your work on time.\n",
    "\n",
    "**All the best for your Live Presentation!**"
   ]
  },
  {
   "cell_type": "markdown",
   "metadata": {},
   "source": [
    "<div class=\"separator-primary\" style=\"height:1.6em;width:100%;background:GoldenRod\">\n",
    "  <p class=\"separatortitle\" style=\"text-align:center;color:Black\"><b>- End of Presentation Guide -</b></p>\n",
    "</div>"
   ]
  },
  {
   "cell_type": "markdown",
   "metadata": {},
   "source": [
    "<div class=\"section\" style=\"height:1.8em;background:WhiteSmoke\">\n",
    "  <h2 class=\"section-title\" style=\"text-align:center\">\n",
    "    <span class=\"section-title-primary\" style=\"text-align:center;color:RoyalBlue\">Appendix</span>\n",
    "    &nbsp;&nbsp;&nbsp;\n",
    "    <span class=\"section-title-secondary\" style=\"text-align:center;color:Black\">How to Connect to the Real Robot</span>\n",
    "  </h2>\n",
    "</div>"
   ]
  },
  {
   "cell_type": "markdown",
   "metadata": {},
   "source": [
    "Once you know the basics of the operation with a simulated version, it's time to practice what you've learned with a **TurtleBot3** robot.\n",
    "\n",
    "To make a booking, follow these simple steps:"
   ]
  },
  {
   "cell_type": "markdown",
   "metadata": {},
   "source": [
    "<div class=\"section\" style=\"height:1.8em;background:WhiteSmoke\">\n",
    "  <h2 class=\"section-title\" style=\"text-align:center\">\n",
    "    <span class=\"section-title-primary\" style=\"text-align:center;color:RoyalBlue\">Step 1</span>\n",
    "    &nbsp;&nbsp;&nbsp;\n",
    "    <span class=\"section-title-secondary\" style=\"text-align:center;color:Black\">Book a Session</span>\n",
    "  </h2>\n",
    "</div>"
   ]
  },
  {
   "cell_type": "markdown",
   "metadata": {},
   "source": [
    "From **The Construct**'s main dashboard, book a session by clicking on the icon seen below:"
   ]
  },
  {
   "cell_type": "markdown",
   "metadata": {},
   "source": [
    "<center><img src=\"images/reallab2.png\" width=\"250\"/></center>"
   ]
  },
  {
   "cell_type": "markdown",
   "metadata": {},
   "source": [
    "A booking page will appear, where you can make a new booking."
   ]
  },
  {
   "cell_type": "markdown",
   "metadata": {},
   "source": [
    "<center><img src=\"images/bookings.png\" width=\"750\"/></center>"
   ]
  },
  {
   "cell_type": "markdown",
   "metadata": {},
   "source": [
    "You can either click on ***`Book a robot`*** on the bottom and then select the **Turtlebot**, or just click on ***`Book now`*** where the image of the **Turtlebot** is and select the date and time for your reservation:"
   ]
  },
  {
   "cell_type": "markdown",
   "metadata": {},
   "source": [
    "<center><img src=\"images/reservet3.png\" width=\"750\"/></center>"
   ]
  },
  {
   "cell_type": "markdown",
   "metadata": {},
   "source": [
    "Only the **available dates and times** are shown in green. They come in **25-minute blocks**.\n",
    "\n",
    "There is also a limitation on the number of bookings per week a user can make.\n",
    "\n",
    "Your number of available bookings depends on your license and subscription."
   ]
  },
  {
   "cell_type": "markdown",
   "metadata": {},
   "source": [
    "<center><img src=\"images/confirm.png\" width=\"750\"/></center>"
   ]
  },
  {
   "cell_type": "markdown",
   "metadata": {},
   "source": [
    "At any point in time you can check for bookings you have:"
   ]
  },
  {
   "cell_type": "markdown",
   "metadata": {},
   "source": [
    "<center><img src=\"images/bookasession.png\" width=\"500\"/></center>"
   ]
  },
  {
   "cell_type": "markdown",
   "metadata": {},
   "source": [
    "<div class=\"section\" style=\"height:1.8em;background:WhiteSmoke\">\n",
    "  <h2 class=\"section-title\" style=\"text-align:center\">\n",
    "    <span class=\"section-title-primary\" style=\"text-align:center;color:RoyalBlue\">Step 2</span>\n",
    "    &nbsp;&nbsp;&nbsp;\n",
    "    <span class=\"section-title-secondary\" style=\"text-align:center;color:Black\">Open Project Rosject</span>\n",
    "  </h2>\n",
    "</div>"
   ]
  },
  {
   "cell_type": "markdown",
   "metadata": {},
   "source": [
    "Before the booked session starts, open your rosject. You will see the robot icon at the bottom bar has a **yellow** dot. It means that your time to connect to the robot will start soon. If you click on it you will see a countdown to your session start.\n",
    "\n",
    "<center><img src=\"images/icon_realrobotlab_comingup.png\" width=\"50\"/></center>"
   ]
  },
  {
   "cell_type": "markdown",
   "metadata": {},
   "source": [
    "<center><img src=\"images/remaining.png\" width=\"500\"/></center>"
   ]
  },
  {
   "cell_type": "markdown",
   "metadata": {},
   "source": [
    "The **yellow** dot will turn **red** when your booked session has started.\n",
    "\n",
    "<center><img src=\"images/icon_realrobotlab_disconnected.png\" width=\"50\"/></center>"
   ]
  },
  {
   "cell_type": "markdown",
   "metadata": {},
   "source": [
    "<div class=\"section\" style=\"height:1.8em;background:WhiteSmoke\">\n",
    "  <h2 class=\"section-title\" style=\"text-align:center\">\n",
    "    <span class=\"section-title-primary\" style=\"text-align:center;color:RoyalBlue\">Step 3</span>\n",
    "    &nbsp;&nbsp;&nbsp;\n",
    "    <span class=\"section-title-secondary\" style=\"text-align:center;color:Black\">Turn ON the Robot Connection</span>\n",
    "  </h2>\n",
    "</div>"
   ]
  },
  {
   "cell_type": "markdown",
   "metadata": {},
   "source": [
    "Once you are inside the rosject and your real robot session has started, click on the robot icon on the bottom bar. A popup with a toggle for **turning on the connection** will appear.\n",
    "\n",
    "**WARNING: Nothing will appear unless you have a booking. So if you didn't make a booking in the dashboard, now is the time to do it.**\n",
    "\n",
    "Now you just have to click on the toggle to connect the desktop environment to the remote lab. This will start the connection process, which takes about 1 minute.\n",
    "\n",
    "Once the connection process is finished, the **red dot will change to green** if successfully connected. Now, **any terminal you open will show the topics and services of the real robot**.\n",
    "\n",
    "<center><img src=\"images/icon_realrobotlab_connected.png\" width=\"50\"/></center>\n",
    "\n",
    "Once connected, you should see the live camera streams from the real robot lab. In case it does not show up, you can press the **Real Robot Lab Stream** button on the bottom bar.\n",
    "\n",
    "<center><img src=\"images/icon_rrl_stream.png\" width=\"50\"/></center>\n",
    "\n",
    "Move the joystick around to confirm you are connected to the robot:"
   ]
  },
  {
   "cell_type": "markdown",
   "metadata": {},
   "source": [
    "<center><img src=\"animations/realrobotlab.gif\" width=\"750\"/></center>"
   ]
  },
  {
   "cell_type": "markdown",
   "metadata": {},
   "source": [
    "You can perform the following command, generating a list of topics similar to the list below. The first time you issue a **ROS2** command, it could take an extra 30 seconds to appear:"
   ]
  },
  {
   "cell_type": "markdown",
   "metadata": {},
   "source": [
    "<div class=\"execute\" style=\"width:14.0em;height:1.5em;border-radius:0.8em;background:Silver\">\n",
    "  <p class=\"executetext\" style=\"text-align:center;color:Black\">\n",
    "    <i class=\"fa fa-terminal\" style=\"font-size:1.5em\"></i>\n",
    "    &nbsp;\n",
    "    <b>Execute in Terminal</b>\n",
    "  </p>\n",
    "</div>"
   ]
  },
  {
   "cell_type": "code",
   "execution_count": null,
   "metadata": {},
   "outputs": [],
   "source": [
    "ros2 topic list"
   ]
  },
  {
   "cell_type": "markdown",
   "metadata": {},
   "source": [
    "You should get an output similar (may not be exactly same) to what is shown below:\n",
    "\n",
    "<center><img src=\"images/realrobot_topic_list.png\" width=\"750\"/></center>"
   ]
  },
  {
   "cell_type": "markdown",
   "metadata": {},
   "source": [
    "You are now connected to the robot! Try moving the robot around to visualize all the sensor data in **RViz**."
   ]
  },
  {
   "cell_type": "markdown",
   "metadata": {},
   "source": [
    "## Ready for your programs!\n",
    "\n",
    "If you have reached this point, it means that you have a proper connection with the remote real robot lab. **Now you can launch the programs of your project and see the results on the real robot!**"
   ]
  },
  {
   "cell_type": "markdown",
   "metadata": {},
   "source": [
    "<div class=\"section\" style=\"height:1.8em;background:WhiteSmoke\">\n",
    "  <h2 class=\"section-title\" style=\"text-align:center\">\n",
    "    <span class=\"section-title-primary\" style=\"text-align:center;color:RoyalBlue\">Appendix</span>\n",
    "    &nbsp;&nbsp;&nbsp;\n",
    "    <span class=\"section-title-secondary\" style=\"text-align:center;color:Black\">Present your Project on YouTube</span>\n",
    "  </h2>\n",
    "</div>"
   ]
  },
  {
   "cell_type": "markdown",
   "metadata": {},
   "source": [
    "An important part of your learning is to teach others what you have learned.\n",
    "\n",
    "To get the most out of your learning, you should present your project.\n",
    "\n",
    "If you're ready to take this brave step, then contact **The Construct** at info@theconstructsim.com and request a presentation. We can agree on a date and time.\n",
    "\n",
    "In the presentation, **you will be asked to do the following**:\n",
    "\n",
    "1. Prepare your presentation. Explain your project in 20 minutes: How did you solve your project, and how does it work?\n",
    "2. On the agreed day, have a camera and mic ready. This is compulsory!\n",
    "3. **The Construct** will contact you on that day and prepare the whole broadcast. We handle the technical details. You only need to be ready to present your project.\n",
    "\n",
    "The event will be broadcasted on YouTube, so anybody around the world can attend and watch your presentation!\n",
    "\n",
    "**Without successfully completing the presentation, you won't be able to earn the course certificate.**\n",
    "\n",
    "<center><img src=\"images/linux_basics_certificate.png\" width=\"750\"/></center>"
   ]
  },
  {
   "cell_type": "markdown",
   "metadata": {},
   "source": [
    "<div class=\"section\" style=\"height:1.8em;background:WhiteSmoke\">\n",
    "  <h2 class=\"section-title\" style=\"text-align:center\">\n",
    "    <span class=\"section-title-primary\" style=\"text-align:center;color:RoyalBlue\">Appendix</span>\n",
    "    &nbsp;&nbsp;&nbsp;\n",
    "    <span class=\"section-title-secondary\" style=\"text-align:center;color:Black\">Share your Project on Social Network</span>\n",
    "  </h2>\n",
    "</div>"
   ]
  },
  {
   "cell_type": "markdown",
   "metadata": {},
   "source": [
    "The rosject that you created is a demonstration of your skill and value as a **ROS Developer**.\n",
    "\n",
    "You can share your rosject on any website to show the **ROS** projects you have worked on. Examples of your capability can encourage potential employers to contact you."
   ]
  },
  {
   "cell_type": "markdown",
   "metadata": {},
   "source": [
    "To share your rosject, follow the steps below:\n",
    "- Go to your list of rosjects, on the ***My Rosjects*** page.\n",
    "- Click on your rosject ***Share*** button to get the share link.\n",
    "\n",
    "<center><img src=\"images/linux_basics_share_rosject.png\" width=\"500\"/></center>\n",
    "\n",
    "- Publish the link anywhere. Remember to use the ***Permanent link***.\n",
    "\n",
    "<center><img src=\"images/rosject_sharelink.png\" width=\"750\"/></center>"
   ]
  },
  {
   "cell_type": "markdown",
   "metadata": {},
   "source": [
    "<div class=\"separator-primary\" style=\"height:1.6em;width:100%;background:DarkGray\">\n",
    "  <p class=\"separatortitle\" style=\"text-align:center;color:Black\"><b>- End of Notebook -</b></p>\n",
    "</div>"
   ]
  }
 ],
 "metadata": {
  "kernelspec": {
   "display_name": "Python 2",
   "language": "python",
   "name": "python2"
  },
  "language_info": {
   "codemirror_mode": {
    "name": "ipython",
    "version": 2
   },
   "file_extension": ".py",
   "mimetype": "text/x-python",
   "name": "python",
   "nbconvert_exporter": "python",
   "pygments_lexer": "ipython2",
   "version": "2.7.16"
  }
 },
 "nbformat": 4,
 "nbformat_minor": 5
}
